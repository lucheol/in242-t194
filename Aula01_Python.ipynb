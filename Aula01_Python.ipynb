{
 "cells": [
  {
   "cell_type": "code",
   "execution_count": 18,
   "metadata": {},
   "outputs": [],
   "source": [
    "'''\n",
    "Variáveis no Python\n",
    "\n",
    "'''\n",
    "x = 12 # inteiro\n",
    "y = 12.34 # float\n",
    "z = \"Lúcio\" # string\n",
    "w = 'Oliveira'\n",
    "a = True # booleano\n",
    "b = False"
   ]
  },
  {
   "cell_type": "code",
   "execution_count": 100,
   "metadata": {},
   "outputs": [
    {
     "name": "stdout",
     "output_type": "stream",
     "text": [
      "Carlos\n",
      "Valor de x: Carlos\n",
      "Valor de z Lúcio\n",
      "Valor de y: 12.34\n",
      "Valor de X: Carlos\n"
     ]
    }
   ],
   "source": [
    "print(x)\n",
    "print(\"Valor de x: \" +  (x)) # cast: converter de int para str (string), o + concatena\n",
    "print(\"Valor de z\", z)\n",
    "print(\"Valor de y: {}\".format(y))\n",
    "print(f'Valor de X: {x}')"
   ]
  },
  {
   "cell_type": "code",
   "execution_count": 31,
   "metadata": {},
   "outputs": [
    {
     "data": {
      "text/plain": [
       "'Oliveira'"
      ]
     },
     "execution_count": 31,
     "metadata": {},
     "output_type": "execute_result"
    }
   ],
   "source": [
    "w"
   ]
  },
  {
   "cell_type": "code",
   "execution_count": 51,
   "metadata": {},
   "outputs": [],
   "source": [
    "# lista, tuplas e dicionários\n",
    "m = [1,2,3,4,5]\n",
    "n = ['a', 'b', 'c']\n",
    "t = ['Lúcio', 'João', 'Marcelo', 'Maria', 'Ana']\n",
    "lista1 = ['Lúcio', 2020, True, 123.456]\n",
    "lista2 = [12]\n",
    "lista3 = [[1,2,3], [4,5,6]]"
   ]
  },
  {
   "cell_type": "code",
   "execution_count": 53,
   "metadata": {},
   "outputs": [
    {
     "data": {
      "text/plain": [
       "'Lúcio'"
      ]
     },
     "execution_count": 53,
     "metadata": {},
     "output_type": "execute_result"
    }
   ],
   "source": [
    "t[0]"
   ]
  },
  {
   "cell_type": "code",
   "execution_count": 65,
   "metadata": {},
   "outputs": [
    {
     "data": {
      "text/plain": [
       "['Lúcio', 123.456]"
      ]
     },
     "execution_count": 65,
     "metadata": {},
     "output_type": "execute_result"
    }
   ],
   "source": [
    "t[1:] #slicing\n",
    "t[1:3]\n",
    "lista1[:2]\n",
    "lista1[:1] + lista1[-1:]\n",
    "#lista1[-1:]"
   ]
  },
  {
   "cell_type": "code",
   "execution_count": 66,
   "metadata": {},
   "outputs": [
    {
     "data": {
      "text/plain": [
       "1"
      ]
     },
     "execution_count": 66,
     "metadata": {},
     "output_type": "execute_result"
    }
   ],
   "source": [
    "cd = (1,2,3,4,5)\n",
    "cd[0]"
   ]
  },
  {
   "cell_type": "code",
   "execution_count": 68,
   "metadata": {},
   "outputs": [],
   "source": [
    "cd1 = ('Nome',)"
   ]
  },
  {
   "cell_type": "code",
   "execution_count": 78,
   "metadata": {},
   "outputs": [],
   "source": [
    "ab = {\n",
    "    'chave': [1,2,3,4,5],\n",
    "    'telefone': '35 - 3232 3232'\n",
    "}"
   ]
  },
  {
   "cell_type": "code",
   "execution_count": 79,
   "metadata": {},
   "outputs": [
    {
     "data": {
      "text/plain": [
       "{'chave': [1, 2, 3, 4, 5], 'telefone': '35 - 3232 3232'}"
      ]
     },
     "execution_count": 79,
     "metadata": {},
     "output_type": "execute_result"
    }
   ],
   "source": [
    "ab"
   ]
  },
  {
   "cell_type": "code",
   "execution_count": 80,
   "metadata": {},
   "outputs": [
    {
     "name": "stdout",
     "output_type": "stream",
     "text": [
      "[1, 2, 3, 4, 5]\n",
      "35 - 3232 3232\n"
     ]
    }
   ],
   "source": [
    "print(ab['chave'])\n",
    "print(ab['telefone'])"
   ]
  },
  {
   "cell_type": "code",
   "execution_count": 85,
   "metadata": {},
   "outputs": [
    {
     "name": "stdout",
     "output_type": "stream",
     "text": [
      "Valor menor ou igual a 3\n",
      "Valor igual a 3\n"
     ]
    }
   ],
   "source": [
    "# Estruturas básicas\n",
    "\n",
    "# se\n",
    "x = 3\n",
    "if x > 3: # > < >= <= == != and or not\n",
    "    print(\"O valor é maior do que 4\")\n",
    "    \n",
    "# se..senao\n",
    "if x > 3:\n",
    "    print(\"Valor maior do que 3\")\n",
    "else:\n",
    "    print(\"Valor menor ou igual a 3\")\n",
    "    \n",
    "    \n",
    "# se..senao..se\n",
    "if x > 3:\n",
    "    print(\"Valor maior do que 3\")\n",
    "elif x == 3:\n",
    "    print(\"Valor igual a 3\")\n",
    "else:\n",
    "    print(\"Valor menor do que 3\")"
   ]
  },
  {
   "cell_type": "code",
   "execution_count": 86,
   "metadata": {},
   "outputs": [
    {
     "name": "stdout",
     "output_type": "stream",
     "text": [
      "1\n",
      "2\n",
      "3\n",
      "4\n",
      "5\n",
      "6\n",
      "7\n",
      "8\n",
      "9\n",
      "10\n"
     ]
    }
   ],
   "source": [
    "# laço de repetição\n",
    "for i in [1,2,3,4,5,6,7,8,9,10]:\n",
    "    print(i)"
   ]
  },
  {
   "cell_type": "code",
   "execution_count": 88,
   "metadata": {},
   "outputs": [
    {
     "name": "stdout",
     "output_type": "stream",
     "text": [
      "Ana\n",
      "Maria\n",
      "Carlos\n"
     ]
    }
   ],
   "source": [
    "lista = ['Ana', 'Maria', 'Carlos']\n",
    "for x in lista:\n",
    "    print(x)"
   ]
  },
  {
   "cell_type": "code",
   "execution_count": 94,
   "metadata": {},
   "outputs": [
    {
     "name": "stdout",
     "output_type": "stream",
     "text": [
      "nome Lúcio\n",
      "ano 2020\n",
      "cidade TC\n",
      "filhos ['Miguel', 'Valentina']\n"
     ]
    }
   ],
   "source": [
    "dados = {\n",
    "    'nome': 'Lúcio',\n",
    "    'ano': 2020,\n",
    "    'cidade': 'TC',\n",
    "    'filhos': ['Miguel', 'Valentina']\n",
    "}\n",
    "# a = [('nome', 'Lúcio'), ('ano', 2020), ('cidade', 'TC')]\n",
    "for k,v in dados.items():\n",
    "    print(k, v)"
   ]
  },
  {
   "cell_type": "code",
   "execution_count": 95,
   "metadata": {},
   "outputs": [
    {
     "data": {
      "text/plain": [
       "dict_items([('nome', 'Lúcio'), ('ano', 2020), ('cidade', 'TC'), ('filhos', ['Miguel', 'Valentina'])])"
      ]
     },
     "execution_count": 95,
     "metadata": {},
     "output_type": "execute_result"
    }
   ],
   "source": [
    "dados.items()"
   ]
  },
  {
   "cell_type": "code",
   "execution_count": 96,
   "metadata": {},
   "outputs": [],
   "source": [
    "# metodo definition\n",
    "\n",
    "def imprime_valor():\n",
    "    return 'valor'"
   ]
  },
  {
   "cell_type": "code",
   "execution_count": 97,
   "metadata": {},
   "outputs": [
    {
     "data": {
      "text/plain": [
       "'valor'"
      ]
     },
     "execution_count": 97,
     "metadata": {},
     "output_type": "execute_result"
    }
   ],
   "source": [
    "imprime_valor()"
   ]
  },
  {
   "cell_type": "code",
   "execution_count": 98,
   "metadata": {},
   "outputs": [],
   "source": [
    "def soma(x,y):\n",
    "    resultado = x + y\n",
    "    return resultado"
   ]
  },
  {
   "cell_type": "code",
   "execution_count": 99,
   "metadata": {},
   "outputs": [
    {
     "data": {
      "text/plain": [
       "7"
      ]
     },
     "execution_count": 99,
     "metadata": {},
     "output_type": "execute_result"
    }
   ],
   "source": [
    "soma(3,4)"
   ]
  },
  {
   "cell_type": "code",
   "execution_count": 102,
   "metadata": {},
   "outputs": [
    {
     "name": "stdout",
     "output_type": "stream",
     "text": [
      "---------------\n"
     ]
    }
   ],
   "source": [
    "print('-' * 15)"
   ]
  },
  {
   "cell_type": "code",
   "execution_count": 105,
   "metadata": {},
   "outputs": [
    {
     "name": "stdout",
     "output_type": "stream",
     "text": [
      "var é None\n"
     ]
    }
   ],
   "source": [
    "a = ''\n",
    "b = None\n",
    "\n",
    "if b is None:\n",
    "    print(\"var é None\")"
   ]
  },
  {
   "cell_type": "code",
   "execution_count": null,
   "metadata": {},
   "outputs": [],
   "source": []
  }
 ],
 "metadata": {
  "kernelspec": {
   "display_name": "Python 3",
   "language": "python",
   "name": "python3"
  },
  "language_info": {
   "codemirror_mode": {
    "name": "ipython",
    "version": 3
   },
   "file_extension": ".py",
   "mimetype": "text/x-python",
   "name": "python",
   "nbconvert_exporter": "python",
   "pygments_lexer": "ipython3",
   "version": "3.7.3"
  }
 },
 "nbformat": 4,
 "nbformat_minor": 2
}
