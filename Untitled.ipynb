{
 "cells": [
  {
   "cell_type": "code",
   "execution_count": null,
   "metadata": {},
   "outputs": [],
   "source": [
    "def processa_cidade(df, cidade):\n",
    "    df_cidade = df[df['cidade'] == cidade].copy()\n",
    "    \n",
    "    df_cidade['shift_casos'] = df_cidade['casos_confirmados'].shift(fill_value=0)\n",
    "    df_cidade['casos_confirmados_dia'] = df_cidade['casos_confirmados'] - df_cidade['shift_casos']\n",
    "    \n",
    "    df_cidade['shift_mortes'] = df_cidade['mortes_confirmadas'].shift(fill_value=0)\n",
    "    df_cidade['mortes_confirmadas_dia'] = df_cidade['mortes_confirmadas'] - df_cidade['shift_mortes']\n",
    "    return df_cidade[['casos_confirmados_dia', 'mortes_confirmadas_dia']]"
   ]
  },
  {
   "cell_type": "code",
   "execution_count": null,
   "metadata": {},
   "outputs": [],
   "source": [
    "df2 = pd.merge(df, processa_cidade(df, 'Três Corações'), left_index=True, right_index=True, how='left')\n",
    "df2 = pd.merge(df2, processa_cidade(df, 'Poços de Caldas'), left_index=True, right_index=True, how='left')\n",
    "df2"
   ]
  },
  {
   "cell_type": "code",
   "execution_count": null,
   "metadata": {},
   "outputs": [],
   "source": [
    "df3 = pd.concat([df, processa_cidade(df, 'Três Corações')], sort=False)\n",
    "df3 = pd.concat([df3, processa_cidade(df, 'Cachoeira de Minas')], sort=False)\n",
    "df3"
   ]
  },
  {
   "cell_type": "code",
   "execution_count": null,
   "metadata": {},
   "outputs": [],
   "source": [
    "df4 = df.copy()\n",
    "df4['casos_confirmados_dia'] = pd.np.nan\n",
    "df4['mortes_confirmadas_dia'] = pd.np.nan\n",
    "df4.update(processa_cidade(df, 'Três Corações'))\n",
    "df4.update(processa_cidade(df, 'Poços de Caldas'))\n",
    "df4"
   ]
  },
  {
   "cell_type": "code",
   "execution_count": null,
   "metadata": {},
   "outputs": [],
   "source": [
    "df5 = df.copy()\n",
    "#df5['casos_confirmados_dia'] = pd.np.nan\n",
    "#df5['mortes_confirmadas_dia'] = pd.np.nan\n",
    "df5.join(processa_cidade(df, 'Três Corações'))\n",
    "df5.join(processa_cidade(df, 'Poços de Caldas'))"
   ]
  }
 ],
 "metadata": {
  "kernelspec": {
   "display_name": "Python 3",
   "language": "python",
   "name": "python3"
  },
  "language_info": {
   "codemirror_mode": {
    "name": "ipython",
    "version": 3
   },
   "file_extension": ".py",
   "mimetype": "text/x-python",
   "name": "python",
   "nbconvert_exporter": "python",
   "pygments_lexer": "ipython3",
   "version": "3.7.3"
  }
 },
 "nbformat": 4,
 "nbformat_minor": 2
}
