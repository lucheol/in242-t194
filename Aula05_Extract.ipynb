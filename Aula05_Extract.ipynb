{
 "cells": [
  {
   "cell_type": "code",
   "execution_count": 4,
   "metadata": {},
   "outputs": [],
   "source": [
    "import pandas as pd\n",
    "import requests\n",
    "import datetime # https://docs.python.org/3/library/datetime.html"
   ]
  },
  {
   "cell_type": "code",
   "execution_count": 43,
   "metadata": {},
   "outputs": [
    {
     "data": {
      "text/plain": [
       "<Response [200]>"
      ]
     },
     "execution_count": 43,
     "metadata": {},
     "output_type": "execute_result"
    }
   ],
   "source": [
    "link = 'https://data.brasil.io/dataset/covid19/caso.csv.gz'\n",
    "response = requests.get(link) # acessando via \"navegador\"\n",
    "response"
   ]
  },
  {
   "cell_type": "code",
   "execution_count": 44,
   "metadata": {},
   "outputs": [],
   "source": [
    "data = datetime.datetime.now().strftime(\"%Y%m%d-%H%M\")\n",
    "file_name = f'download-{data}.csv.gz'\n",
    "arquivo = open(file_name, 'wb') # response\n",
    "arquivo.write(response.content)\n",
    "arquivo.close()"
   ]
  },
  {
   "cell_type": "code",
   "execution_count": 31,
   "metadata": {},
   "outputs": [],
   "source": [
    "df = pd.read_csv(file_name)"
   ]
  },
  {
   "cell_type": "code",
   "execution_count": 33,
   "metadata": {},
   "outputs": [],
   "source": [
    "cidades = ['Três Corações', 'Santa Rita do Sapucaí', 'Cachoeira de Minas', 'Piranguinho', 'Itajubá', 'Poços de Caldas', 'Pouso Alegre']"
   ]
  },
  {
   "cell_type": "code",
   "execution_count": 38,
   "metadata": {},
   "outputs": [
    {
     "data": {
      "text/plain": [
       "array(['Cachoeira de Minas', 'Itajubá', 'Piranguinho', 'Pouso Alegre',\n",
       "       'Poços de Caldas', 'Santa Rita do Sapucaí', 'Três Corações'],\n",
       "      dtype=object)"
      ]
     },
     "execution_count": 38,
     "metadata": {},
     "output_type": "execute_result"
    }
   ],
   "source": [
    "df = df[df['city'].isin(cidades)]\n",
    "df[df['city'].isin(cidades)]['city'].unique() # conferir se as cidades foram \"pegas\""
   ]
  },
  {
   "cell_type": "code",
   "execution_count": 51,
   "metadata": {},
   "outputs": [],
   "source": [
    "df = df.reset_index()[['date','city', 'confirmed', 'deaths']]"
   ]
  },
  {
   "cell_type": "code",
   "execution_count": 54,
   "metadata": {},
   "outputs": [],
   "source": [
    "df = df.rename(columns={'date': 'data', 'city': 'cidade', 'confirmed': 'casos_confirmados', 'deaths': 'mortes_confirmadas'})"
   ]
  },
  {
   "cell_type": "code",
   "execution_count": 56,
   "metadata": {},
   "outputs": [],
   "source": [
    "df.sort_values('data', inplace=True)"
   ]
  },
  {
   "cell_type": "code",
   "execution_count": 58,
   "metadata": {},
   "outputs": [
    {
     "data": {
      "text/html": [
       "<div>\n",
       "<style scoped>\n",
       "    .dataframe tbody tr th:only-of-type {\n",
       "        vertical-align: middle;\n",
       "    }\n",
       "\n",
       "    .dataframe tbody tr th {\n",
       "        vertical-align: top;\n",
       "    }\n",
       "\n",
       "    .dataframe thead th {\n",
       "        text-align: right;\n",
       "    }\n",
       "</style>\n",
       "<table border=\"1\" class=\"dataframe\">\n",
       "  <thead>\n",
       "    <tr style=\"text-align: right;\">\n",
       "      <th></th>\n",
       "      <th>data</th>\n",
       "      <th>cidade</th>\n",
       "      <th>casos_confirmados</th>\n",
       "      <th>mortes_confirmadas</th>\n",
       "    </tr>\n",
       "  </thead>\n",
       "  <tbody>\n",
       "    <tr>\n",
       "      <th>674</th>\n",
       "      <td>2020-03-20</td>\n",
       "      <td>Poços de Caldas</td>\n",
       "      <td>1</td>\n",
       "      <td>0</td>\n",
       "    </tr>\n",
       "    <tr>\n",
       "      <th>673</th>\n",
       "      <td>2020-03-21</td>\n",
       "      <td>Poços de Caldas</td>\n",
       "      <td>1</td>\n",
       "      <td>0</td>\n",
       "    </tr>\n",
       "    <tr>\n",
       "      <th>672</th>\n",
       "      <td>2020-03-23</td>\n",
       "      <td>Poços de Caldas</td>\n",
       "      <td>1</td>\n",
       "      <td>0</td>\n",
       "    </tr>\n",
       "    <tr>\n",
       "      <th>671</th>\n",
       "      <td>2020-03-24</td>\n",
       "      <td>Poços de Caldas</td>\n",
       "      <td>1</td>\n",
       "      <td>0</td>\n",
       "    </tr>\n",
       "    <tr>\n",
       "      <th>670</th>\n",
       "      <td>2020-03-25</td>\n",
       "      <td>Poços de Caldas</td>\n",
       "      <td>1</td>\n",
       "      <td>0</td>\n",
       "    </tr>\n",
       "  </tbody>\n",
       "</table>\n",
       "</div>"
      ],
      "text/plain": [
       "           data           cidade  casos_confirmados  mortes_confirmadas\n",
       "674  2020-03-20  Poços de Caldas                  1                   0\n",
       "673  2020-03-21  Poços de Caldas                  1                   0\n",
       "672  2020-03-23  Poços de Caldas                  1                   0\n",
       "671  2020-03-24  Poços de Caldas                  1                   0\n",
       "670  2020-03-25  Poços de Caldas                  1                   0"
      ]
     },
     "execution_count": 58,
     "metadata": {},
     "output_type": "execute_result"
    }
   ],
   "source": [
    "df.head()"
   ]
  },
  {
   "cell_type": "code",
   "execution_count": 62,
   "metadata": {},
   "outputs": [],
   "source": [
    "df_teste = df[df['cidade'] == 'Poços de Caldas'].copy()"
   ]
  },
  {
   "cell_type": "code",
   "execution_count": 66,
   "metadata": {
    "scrolled": true
   },
   "outputs": [
    {
     "data": {
      "text/html": [
       "<div>\n",
       "<style scoped>\n",
       "    .dataframe tbody tr th:only-of-type {\n",
       "        vertical-align: middle;\n",
       "    }\n",
       "\n",
       "    .dataframe tbody tr th {\n",
       "        vertical-align: top;\n",
       "    }\n",
       "\n",
       "    .dataframe thead th {\n",
       "        text-align: right;\n",
       "    }\n",
       "</style>\n",
       "<table border=\"1\" class=\"dataframe\">\n",
       "  <thead>\n",
       "    <tr style=\"text-align: right;\">\n",
       "      <th></th>\n",
       "      <th>data</th>\n",
       "      <th>cidade</th>\n",
       "      <th>casos_confirmados</th>\n",
       "      <th>mortes_confirmadas</th>\n",
       "      <th>shift_casos</th>\n",
       "    </tr>\n",
       "  </thead>\n",
       "  <tbody>\n",
       "    <tr>\n",
       "      <th>674</th>\n",
       "      <td>2020-03-20</td>\n",
       "      <td>Poços de Caldas</td>\n",
       "      <td>1</td>\n",
       "      <td>0</td>\n",
       "      <td>0</td>\n",
       "    </tr>\n",
       "    <tr>\n",
       "      <th>673</th>\n",
       "      <td>2020-03-21</td>\n",
       "      <td>Poços de Caldas</td>\n",
       "      <td>1</td>\n",
       "      <td>0</td>\n",
       "      <td>1</td>\n",
       "    </tr>\n",
       "    <tr>\n",
       "      <th>672</th>\n",
       "      <td>2020-03-23</td>\n",
       "      <td>Poços de Caldas</td>\n",
       "      <td>1</td>\n",
       "      <td>0</td>\n",
       "      <td>1</td>\n",
       "    </tr>\n",
       "    <tr>\n",
       "      <th>671</th>\n",
       "      <td>2020-03-24</td>\n",
       "      <td>Poços de Caldas</td>\n",
       "      <td>1</td>\n",
       "      <td>0</td>\n",
       "      <td>1</td>\n",
       "    </tr>\n",
       "    <tr>\n",
       "      <th>670</th>\n",
       "      <td>2020-03-25</td>\n",
       "      <td>Poços de Caldas</td>\n",
       "      <td>1</td>\n",
       "      <td>0</td>\n",
       "      <td>1</td>\n",
       "    </tr>\n",
       "  </tbody>\n",
       "</table>\n",
       "</div>"
      ],
      "text/plain": [
       "           data           cidade  casos_confirmados  mortes_confirmadas  \\\n",
       "674  2020-03-20  Poços de Caldas                  1                   0   \n",
       "673  2020-03-21  Poços de Caldas                  1                   0   \n",
       "672  2020-03-23  Poços de Caldas                  1                   0   \n",
       "671  2020-03-24  Poços de Caldas                  1                   0   \n",
       "670  2020-03-25  Poços de Caldas                  1                   0   \n",
       "\n",
       "     shift_casos  \n",
       "674            0  \n",
       "673            1  \n",
       "672            1  \n",
       "671            1  \n",
       "670            1  "
      ]
     },
     "execution_count": 66,
     "metadata": {},
     "output_type": "execute_result"
    }
   ],
   "source": [
    "df_teste['shift_casos'] = df_teste['casos_confirmados'].shift(fill_value=0)\n",
    "df_teste.head()"
   ]
  },
  {
   "cell_type": "code",
   "execution_count": 67,
   "metadata": {},
   "outputs": [],
   "source": [
    "df_teste['casos_confirmados_dia'] = df_teste['casos_confirmados'] - df_teste['shift_casos']"
   ]
  },
  {
   "cell_type": "code",
   "execution_count": 69,
   "metadata": {},
   "outputs": [],
   "source": [
    "df_teste['shift_mortes'] = df_teste['mortes_confirmadas'].shift(fill_value=0)\n",
    "df_teste['mortes_confirmadas_dia'] = df_teste['mortes_confirmadas'] - df_teste['shift_mortes']"
   ]
  },
  {
   "cell_type": "code",
   "execution_count": 72,
   "metadata": {
    "scrolled": true
   },
   "outputs": [
    {
     "data": {
      "text/html": [
       "<div>\n",
       "<style scoped>\n",
       "    .dataframe tbody tr th:only-of-type {\n",
       "        vertical-align: middle;\n",
       "    }\n",
       "\n",
       "    .dataframe tbody tr th {\n",
       "        vertical-align: top;\n",
       "    }\n",
       "\n",
       "    .dataframe thead th {\n",
       "        text-align: right;\n",
       "    }\n",
       "</style>\n",
       "<table border=\"1\" class=\"dataframe\">\n",
       "  <thead>\n",
       "    <tr style=\"text-align: right;\">\n",
       "      <th></th>\n",
       "      <th>data</th>\n",
       "      <th>cidade</th>\n",
       "      <th>casos_confirmados</th>\n",
       "      <th>mortes_confirmadas</th>\n",
       "      <th>shift_casos</th>\n",
       "      <th>casos_confirmados_dia</th>\n",
       "      <th>shift_mortes</th>\n",
       "      <th>mortes_confirmadas_dia</th>\n",
       "    </tr>\n",
       "  </thead>\n",
       "  <tbody>\n",
       "    <tr>\n",
       "      <th>674</th>\n",
       "      <td>2020-03-20</td>\n",
       "      <td>Poços de Caldas</td>\n",
       "      <td>1</td>\n",
       "      <td>0</td>\n",
       "      <td>0</td>\n",
       "      <td>1</td>\n",
       "      <td>0</td>\n",
       "      <td>0</td>\n",
       "    </tr>\n",
       "    <tr>\n",
       "      <th>673</th>\n",
       "      <td>2020-03-21</td>\n",
       "      <td>Poços de Caldas</td>\n",
       "      <td>1</td>\n",
       "      <td>0</td>\n",
       "      <td>1</td>\n",
       "      <td>0</td>\n",
       "      <td>0</td>\n",
       "      <td>0</td>\n",
       "    </tr>\n",
       "    <tr>\n",
       "      <th>672</th>\n",
       "      <td>2020-03-23</td>\n",
       "      <td>Poços de Caldas</td>\n",
       "      <td>1</td>\n",
       "      <td>0</td>\n",
       "      <td>1</td>\n",
       "      <td>0</td>\n",
       "      <td>0</td>\n",
       "      <td>0</td>\n",
       "    </tr>\n",
       "    <tr>\n",
       "      <th>671</th>\n",
       "      <td>2020-03-24</td>\n",
       "      <td>Poços de Caldas</td>\n",
       "      <td>1</td>\n",
       "      <td>0</td>\n",
       "      <td>1</td>\n",
       "      <td>0</td>\n",
       "      <td>0</td>\n",
       "      <td>0</td>\n",
       "    </tr>\n",
       "    <tr>\n",
       "      <th>670</th>\n",
       "      <td>2020-03-25</td>\n",
       "      <td>Poços de Caldas</td>\n",
       "      <td>1</td>\n",
       "      <td>0</td>\n",
       "      <td>1</td>\n",
       "      <td>0</td>\n",
       "      <td>0</td>\n",
       "      <td>0</td>\n",
       "    </tr>\n",
       "  </tbody>\n",
       "</table>\n",
       "</div>"
      ],
      "text/plain": [
       "           data           cidade  casos_confirmados  mortes_confirmadas  \\\n",
       "674  2020-03-20  Poços de Caldas                  1                   0   \n",
       "673  2020-03-21  Poços de Caldas                  1                   0   \n",
       "672  2020-03-23  Poços de Caldas                  1                   0   \n",
       "671  2020-03-24  Poços de Caldas                  1                   0   \n",
       "670  2020-03-25  Poços de Caldas                  1                   0   \n",
       "\n",
       "     shift_casos  casos_confirmados_dia  shift_mortes  mortes_confirmadas_dia  \n",
       "674            0                      1             0                       0  \n",
       "673            1                      0             0                       0  \n",
       "672            1                      0             0                       0  \n",
       "671            1                      0             0                       0  \n",
       "670            1                      0             0                       0  "
      ]
     },
     "execution_count": 72,
     "metadata": {},
     "output_type": "execute_result"
    }
   ],
   "source": [
    "df_teste.head()"
   ]
  },
  {
   "cell_type": "code",
   "execution_count": 98,
   "metadata": {},
   "outputs": [],
   "source": [
    "# df_resultado = pd.DataFrame([], columns=df.columns)\n",
    "# df_resultado_2 = pd.DataFrame([], columns=df.columns)\n",
    "for cidade in cidades:\n",
    "    df_cidade = df[df['cidade'] == cidade].copy()\n",
    "    \n",
    "    df_cidade['shift_casos'] = df_cidade['casos_confirmados'].shift(fill_value=0)\n",
    "    df_cidade['casos_confirmados_dia'] = df_cidade['casos_confirmados'] - df_cidade['shift_casos']\n",
    "    \n",
    "    df_cidade['shift_mortes'] = df_cidade['mortes_confirmadas'].shift(fill_value=0)\n",
    "    df_cidade['mortes_confirmadas_dia'] = df_cidade['mortes_confirmadas'] - df_cidade['shift_mortes']\n",
    "    # df['casos_confirmados_dia'] = df_cidade['casos_confirmados_dia']\n",
    "    # df_resultado.append(df_cidade, sort=False)\n",
    "    # df = pd.merge(df, df_cidade)\n",
    "    # df_resultado_2 = pd.concat([df_resultado_2, df_cidade])\n",
    "    "
   ]
  },
  {
   "cell_type": "code",
   "execution_count": 99,
   "metadata": {},
   "outputs": [
    {
     "data": {
      "text/html": [
       "<div>\n",
       "<style scoped>\n",
       "    .dataframe tbody tr th:only-of-type {\n",
       "        vertical-align: middle;\n",
       "    }\n",
       "\n",
       "    .dataframe tbody tr th {\n",
       "        vertical-align: top;\n",
       "    }\n",
       "\n",
       "    .dataframe thead th {\n",
       "        text-align: right;\n",
       "    }\n",
       "</style>\n",
       "<table border=\"1\" class=\"dataframe\">\n",
       "  <thead>\n",
       "    <tr style=\"text-align: right;\">\n",
       "      <th></th>\n",
       "      <th>data</th>\n",
       "      <th>cidade</th>\n",
       "      <th>casos_confirmados</th>\n",
       "      <th>mortes_confirmadas</th>\n",
       "      <th>casos_confirmados_dia</th>\n",
       "      <th>shift_casos</th>\n",
       "    </tr>\n",
       "  </thead>\n",
       "  <tbody>\n",
       "  </tbody>\n",
       "</table>\n",
       "</div>"
      ],
      "text/plain": [
       "Empty DataFrame\n",
       "Columns: [data, cidade, casos_confirmados, mortes_confirmadas, casos_confirmados_dia, shift_casos]\n",
       "Index: []"
      ]
     },
     "execution_count": 99,
     "metadata": {},
     "output_type": "execute_result"
    }
   ],
   "source": [
    "df_cidade"
   ]
  },
  {
   "cell_type": "code",
   "execution_count": 80,
   "metadata": {},
   "outputs": [],
   "source": [
    "#merge, join, concat\n",
    "# https://pandas.pydata.org/pandas-docs/stable/user_guide/merging.html"
   ]
  },
  {
   "cell_type": "code",
   "execution_count": null,
   "metadata": {},
   "outputs": [],
   "source": [
    "# input/store no mongo(banco)"
   ]
  }
 ],
 "metadata": {
  "kernelspec": {
   "display_name": "Python 3",
   "language": "python",
   "name": "python3"
  },
  "language_info": {
   "codemirror_mode": {
    "name": "ipython",
    "version": 3
   },
   "file_extension": ".py",
   "mimetype": "text/x-python",
   "name": "python",
   "nbconvert_exporter": "python",
   "pygments_lexer": "ipython3",
   "version": "3.7.3"
  }
 },
 "nbformat": 4,
 "nbformat_minor": 2
}
